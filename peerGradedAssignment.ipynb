{
    "cells": [
        {
            "cell_type": "markdown",
            "metadata": {
                "collapsed": true
            },
            "source": "# My Jupyter Notebook on IBM Watson Studio"
        },
        {
            "cell_type": "markdown",
            "metadata": {},
            "source": "#### **Ruhi Tyagi**\nProspective Machine learning & AI Engineer"
        },
        {
            "cell_type": "markdown",
            "metadata": {},
            "source": "*I am interested in data science because juggling with data and math is my superpower!*"
        },
        {
            "cell_type": "markdown",
            "metadata": {},
            "source": "### Program to print *PYRAMID PATTERN*"
        },
        {
            "cell_type": "code",
            "execution_count": 32,
            "metadata": {},
            "outputs": [
                {
                    "name": "stdout",
                    "output_type": "stream",
                    "text": "    * * * \n   * * * * \n  * * * * * \n * * * * * * \n"
                }
            ],
            "source": "min = 3\nmax = 6\n\nfor i in range(min,max+1):\n    for  j in range(min,max+1):\n        print(end=\" \")\n    max = max - 1\n    for j in range(0,i):\n        print('* ',end=\"\")\n    print(\"\")\n"
        },
        {
            "cell_type": "markdown",
            "metadata": {},
            "source": "<a href=\"https://www.coursera.org/user/2be0c07acd4f97fc16402eb4b01181c5\"> Ruhi Tyagi Coursera Profile </a>"
        },
        {
            "cell_type": "markdown",
            "metadata": {},
            "source": "**IBM Data Science Professional Certificate | Coursera:**\n   1. What is Data Science?\n   2. Tools for Data Science.\n   3. Data Science Methodology.\n   4. Python for Data Science and AI.\n   5. Databases and SQL for Data Science.\n   6. Data Analysis with Python.\n   7. Data Visualization with Python.\n   8. Machine Learning with Python.\n   9. Applied Data Science Capstone."
        },
        {
            "cell_type": "markdown",
            "metadata": {},
            "source": "| This | is | messy |\n|:----|:----:|----:|\n|Still|looks|perfect|\n|Left-Align|Centered|Right-Align|\n"
        },
        {
            "cell_type": "markdown",
            "metadata": {},
            "source": "Logo:\n![Logo](https://github.com/adam-p/markdown-here/raw/master/src/common/images/icon48.png \"Logo\")\n"
        },
        {
            "cell_type": "code",
            "execution_count": null,
            "metadata": {},
            "outputs": [],
            "source": ""
        }
    ],
    "metadata": {
        "kernelspec": {
            "display_name": "Python 3.6",
            "language": "python",
            "name": "python3"
        },
        "language_info": {
            "codemirror_mode": {
                "name": "ipython",
                "version": 3
            },
            "file_extension": ".py",
            "mimetype": "text/x-python",
            "name": "python",
            "nbconvert_exporter": "python",
            "pygments_lexer": "ipython3",
            "version": "3.6.9"
        }
    },
    "nbformat": 4,
    "nbformat_minor": 1
}